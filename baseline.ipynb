{
 "cells": [
  {
   "cell_type": "code",
   "execution_count": 22,
   "metadata": {
    "ExecuteTime": {
     "end_time": "2019-05-21T17:00:59.538551Z",
     "start_time": "2019-05-21T17:00:57.990361Z"
    },
    "execution": {
     "iopub.execute_input": "2020-09-25T05:02:32.096684Z",
     "iopub.status.busy": "2020-09-25T05:02:32.096181Z",
     "iopub.status.idle": "2020-09-25T05:02:32.119984Z",
     "shell.execute_reply": "2020-09-25T05:02:32.118492Z",
     "shell.execute_reply.started": "2020-09-25T05:02:32.096631Z"
    }
   },
   "outputs": [
    {
     "data": {
      "text/plain": [
       "'1.14.0'"
      ]
     },
     "execution_count": 22,
     "metadata": {},
     "output_type": "execute_result"
    }
   ],
   "source": [
    "import numpy as np\n",
    "import pandas as pd\n",
    "import sklearn as sk\n",
    "import matplotlib\n",
    "import matplotlib.pyplot as plt\n",
    "import random\n",
    "import math\n",
    "import tensorflow as tf\n",
    "from tensorflow import keras as k\n",
    "from tensorflow.keras import backend as K\n",
    "from tensorflow.keras.callbacks import EarlyStopping, ModelCheckpoint, ReduceLROnPlateau, LearningRateScheduler, TensorBoard\n",
    "from tensorflow.keras.layers import Conv1D, Input, Dense, Flatten, Add, Subtract, Activation, BatchNormalization, Reshape, Permute\n",
    "from tensorflow.keras.layers import LayerNormalization\n",
    "\n",
    "from sklearn.model_selection import train_test_split\n",
    "from sklearn.metrics import roc_curve, auc\n",
    "\n",
    "%matplotlib inline\n",
    "\n",
    "tf.__version__"
   ]
  },
  {
   "cell_type": "code",
   "execution_count": 2,
   "metadata": {
    "ExecuteTime": {
     "end_time": "2019-05-21T17:01:00.172986Z",
     "start_time": "2019-05-21T17:01:00.168535Z"
    },
    "execution": {
     "iopub.execute_input": "2020-09-25T04:56:00.674705Z",
     "iopub.status.busy": "2020-09-25T04:56:00.674185Z",
     "iopub.status.idle": "2020-09-25T04:56:00.682889Z",
     "shell.execute_reply": "2020-09-25T04:56:00.681473Z",
     "shell.execute_reply.started": "2020-09-25T04:56:00.674652Z"
    }
   },
   "outputs": [],
   "source": [
    "def tolist(f):\n",
    "    xn = pd.read_csv(f, sep='\\t', index_col=0)\n",
    "    xn = xn.fillna(xn.mean())\n",
    "    xn = xn.transpose()\n",
    "    xn = [x[1:] for x in xn.itertuples()]\n",
    "    return xn"
   ]
  },
  {
   "cell_type": "code",
   "execution_count": 16,
   "metadata": {
    "ExecuteTime": {
     "end_time": "2019-05-21T17:01:09.707464Z",
     "start_time": "2019-05-21T17:01:06.924790Z"
    },
    "execution": {
     "iopub.execute_input": "2020-09-25T05:00:52.295877Z",
     "iopub.status.busy": "2020-09-25T05:00:52.295347Z",
     "iopub.status.idle": "2020-09-25T05:00:55.903856Z",
     "shell.execute_reply": "2020-09-25T05:00:55.903341Z",
     "shell.execute_reply.started": "2020-09-25T05:00:52.295819Z"
    }
   },
   "outputs": [
    {
     "name": "stdout",
     "output_type": "stream",
     "text": [
      "61 529\n"
     ]
    }
   ],
   "source": [
    "# read data\n",
    "dataset = 'BC-TCGA' #'BC-TCGA' #'GSE2034' #'GSE25066'\n",
    "x_normal = tolist(dataset + '/' + dataset + '-Normal.txt')\n",
    "x_tumor = tolist(dataset + '/' + dataset + '-Tumor.txt')\n",
    "\n",
    "print(len(x_normal), len(x_tumor))"
   ]
  },
  {
   "cell_type": "code",
   "execution_count": 17,
   "metadata": {
    "execution": {
     "iopub.execute_input": "2020-09-25T05:00:55.904755Z",
     "iopub.status.busy": "2020-09-25T05:00:55.904629Z",
     "iopub.status.idle": "2020-09-25T05:00:55.992084Z",
     "shell.execute_reply": "2020-09-25T05:00:55.991591Z",
     "shell.execute_reply.started": "2020-09-25T05:00:55.904739Z"
    }
   },
   "outputs": [],
   "source": [
    "# split into testing, validation and training set\n",
    "# make sure that the testing set have balenced number of positive and negative samples\n",
    "n = 16\n",
    "\n",
    "# this example code runs without shuffle samples\n",
    "# np.random.shuffle(x_tumor)\n",
    "# np.random.shuffle(x_normal)\n",
    "\n",
    "x_tumor_test, x_tumor_val, x_tumor_train = x_tumor[:n], x_tumor[n:n * 2], x_tumor[n * 2:]\n",
    "\n",
    "x_normal_test, x_normal_val, x_normal_train = x_normal[:n], x_normal[n:n * 2], x_normal[n * 2:]\n",
    "\n",
    "# much less Normal samples we have,\n",
    "# Oversampling to balence number of positive and negative samples in training set\n",
    "x_normal_train = x_normal_train * math.ceil(len(x_tumor_train) / len(x_normal_train))\n",
    "x_normal_train = x_normal_train[:len(x_tumor_train)]"
   ]
  },
  {
   "cell_type": "code",
   "execution_count": 18,
   "metadata": {
    "ExecuteTime": {
     "end_time": "2019-05-21T17:01:10.316988Z",
     "start_time": "2019-05-21T17:01:10.311008Z"
    },
    "execution": {
     "iopub.execute_input": "2020-09-25T05:00:55.993292Z",
     "iopub.status.busy": "2020-09-25T05:00:55.993166Z",
     "iopub.status.idle": "2020-09-25T05:00:56.519804Z",
     "shell.execute_reply": "2020-09-25T05:00:56.519336Z",
     "shell.execute_reply.started": "2020-09-25T05:00:55.993278Z"
    }
   },
   "outputs": [
    {
     "data": {
      "text/plain": [
       "(994, 32, 32)"
      ]
     },
     "execution_count": 18,
     "metadata": {},
     "output_type": "execute_result"
    }
   ],
   "source": [
    "y_train = np.append(np.zeros(len(x_normal_train)), np.ones(len(x_tumor_train)))\n",
    "x_train = np.float32(x_normal_train + x_tumor_train)\n",
    "\n",
    "xtest = np.float32(x_normal_test + x_tumor_test)\n",
    "ytest = np.append(np.zeros(len(x_normal_test)), np.ones(len(x_tumor_test)))\n",
    "\n",
    "xval = np.float32(x_normal_val + x_tumor_val)\n",
    "yval = np.append(np.zeros(len(x_normal_val)), np.ones(len(x_tumor_val)))\n",
    "\n",
    "len(x_train), len(xval), len(xtest)"
   ]
  },
  {
   "cell_type": "code",
   "execution_count": 19,
   "metadata": {
    "ExecuteTime": {
     "end_time": "2019-05-21T17:01:13.769293Z",
     "start_time": "2019-05-21T17:01:13.760394Z"
    },
    "code_folding": [
     2
    ],
    "execution": {
     "iopub.execute_input": "2020-09-25T05:00:56.520907Z",
     "iopub.status.busy": "2020-09-25T05:00:56.520751Z",
     "iopub.status.idle": "2020-09-25T05:00:56.527976Z",
     "shell.execute_reply": "2020-09-25T05:00:56.527551Z",
     "shell.execute_reply.started": "2020-09-25T05:00:56.520891Z"
    }
   },
   "outputs": [],
   "source": [
    "dim = len(x_tumor_val[0])\n",
    "\n",
    "def build(act='relu'):\n",
    "    x1 = Input(shape=(dim,))\n",
    "    v1 = x1\n",
    "\n",
    "    v1 = k.layers.Reshape((-1, 1))(v1)\n",
    "\n",
    "    for i in (8, 16, 32, 64, 128, 256, 512, 512):\n",
    "        v1 = Conv1D(i, kernel_size=9, padding='same', strides=2)(v1)\n",
    "        v1 = BatchNormalization()(v1)\n",
    "        v1 = k.layers.Activation(act)(v1)\n",
    "\n",
    "    v1 = Conv1D(1, kernel_size=1, padding='same')(v1)\n",
    "    v1 = k.layers.Activation('sigmoid')(v1)\n",
    "    v1 = k.layers.GlobalAveragePooling1D()(v1)\n",
    "\n",
    "    model = k.models.Model(inputs=x1, outputs=v1)\n",
    "\n",
    "    return model"
   ]
  },
  {
   "cell_type": "code",
   "execution_count": 20,
   "metadata": {
    "execution": {
     "iopub.execute_input": "2020-09-25T05:00:56.528659Z",
     "iopub.status.busy": "2020-09-25T05:00:56.528535Z",
     "iopub.status.idle": "2020-09-25T05:00:56.533423Z",
     "shell.execute_reply": "2020-09-25T05:00:56.533007Z",
     "shell.execute_reply.started": "2020-09-25T05:00:56.528644Z"
    }
   },
   "outputs": [],
   "source": [
    "# warning, tensorflow_privacy works with tf 1.X only\n",
    "\n",
    "from tensorflow_privacy.privacy.analysis import compute_dp_sgd_privacy\n",
    "from tensorflow_privacy.privacy.optimizers.dp_optimizer import DPGradientDescentGaussianOptimizer"
   ]
  },
  {
   "cell_type": "code",
   "execution_count": 23,
   "metadata": {
    "execution": {
     "iopub.execute_input": "2020-09-25T05:05:59.559403Z",
     "iopub.status.busy": "2020-09-25T05:05:59.558949Z",
     "iopub.status.idle": "2020-09-25T05:06:31.986961Z",
     "shell.execute_reply": "2020-09-25T05:06:31.985699Z",
     "shell.execute_reply.started": "2020-09-25T05:05:59.559355Z"
    }
   },
   "outputs": [
    {
     "name": "stdout",
     "output_type": "stream",
     "text": [
      "Train on 994 samples, validate on 32 samples\n",
      "Epoch 1/20\n",
      "992/994 [============================>.] - ETA: 0s - loss: 0.7082 - acc: 0.4980WARNING:tensorflow:TensorFlow optimizers do not make it possible to access optimizer attributes or optimizer state after instantiation. As a result, we cannot save the optimizer as part of the model save file. You will have to compile your model again after loading it. Prefer using a Keras optimizer instead (see keras.io/optimizers).\n",
      "994/994 [==============================] - 5s 5ms/sample - loss: 0.7080 - acc: 0.4990 - val_loss: 0.6935 - val_acc: 0.5000\n",
      "Epoch 2/20\n",
      "994/994 [==============================] - 1s 1ms/sample - loss: 0.6783 - acc: 0.5111 - val_loss: 0.6944 - val_acc: 0.5000\n",
      "Epoch 3/20\n",
      "994/994 [==============================] - 1s 1ms/sample - loss: 0.6431 - acc: 0.7324 - val_loss: 0.6985 - val_acc: 0.5000\n",
      "Epoch 4/20\n",
      "994/994 [==============================] - 1s 1ms/sample - loss: 0.6179 - acc: 0.8742 - val_loss: 0.7053 - val_acc: 0.5000\n",
      "Epoch 5/20\n",
      "994/994 [==============================] - 1s 1ms/sample - loss: 0.5929 - acc: 0.9064 - val_loss: 0.7109 - val_acc: 0.5000\n",
      "Epoch 6/20\n",
      "994/994 [==============================] - 1s 1ms/sample - loss: 0.5677 - acc: 0.9145 - val_loss: 0.7069 - val_acc: 0.5000\n",
      "Epoch 7/20\n",
      "994/994 [==============================] - 1s 1ms/sample - loss: 0.5481 - acc: 0.9296 - val_loss: 0.7058 - val_acc: 0.5000\n",
      "Epoch 8/20\n",
      "994/994 [==============================] - 1s 1ms/sample - loss: 0.5287 - acc: 0.9346 - val_loss: 0.6976 - val_acc: 0.5000\n",
      "Epoch 9/20\n",
      "992/994 [============================>.] - ETA: 0s - loss: 0.5093 - acc: 0.9315WARNING:tensorflow:TensorFlow optimizers do not make it possible to access optimizer attributes or optimizer state after instantiation. As a result, we cannot save the optimizer as part of the model save file. You will have to compile your model again after loading it. Prefer using a Keras optimizer instead (see keras.io/optimizers).\n",
      "994/994 [==============================] - 1s 1ms/sample - loss: 0.5092 - acc: 0.9316 - val_loss: 0.6545 - val_acc: 0.5312\n",
      "Epoch 10/20\n",
      "992/994 [============================>.] - ETA: 0s - loss: 0.4890 - acc: 0.9446WARNING:tensorflow:TensorFlow optimizers do not make it possible to access optimizer attributes or optimizer state after instantiation. As a result, we cannot save the optimizer as part of the model save file. You will have to compile your model again after loading it. Prefer using a Keras optimizer instead (see keras.io/optimizers).\n",
      "994/994 [==============================] - 1s 1ms/sample - loss: 0.4894 - acc: 0.9447 - val_loss: 0.6118 - val_acc: 0.5625\n",
      "Epoch 11/20\n",
      "992/994 [============================>.] - ETA: 0s - loss: 0.4733 - acc: 0.9506WARNING:tensorflow:TensorFlow optimizers do not make it possible to access optimizer attributes or optimizer state after instantiation. As a result, we cannot save the optimizer as part of the model save file. You will have to compile your model again after loading it. Prefer using a Keras optimizer instead (see keras.io/optimizers).\n",
      "994/994 [==============================] - 1s 1ms/sample - loss: 0.4732 - acc: 0.9507 - val_loss: 0.5739 - val_acc: 0.6562\n",
      "Epoch 12/20\n",
      "992/994 [============================>.] - ETA: 0s - loss: 0.4586 - acc: 0.9466WARNING:tensorflow:TensorFlow optimizers do not make it possible to access optimizer attributes or optimizer state after instantiation. As a result, we cannot save the optimizer as part of the model save file. You will have to compile your model again after loading it. Prefer using a Keras optimizer instead (see keras.io/optimizers).\n",
      "994/994 [==============================] - 1s 1ms/sample - loss: 0.4587 - acc: 0.9467 - val_loss: 0.5298 - val_acc: 0.7812\n",
      "Epoch 13/20\n",
      "992/994 [============================>.] - ETA: 0s - loss: 0.4442 - acc: 0.9365WARNING:tensorflow:TensorFlow optimizers do not make it possible to access optimizer attributes or optimizer state after instantiation. As a result, we cannot save the optimizer as part of the model save file. You will have to compile your model again after loading it. Prefer using a Keras optimizer instead (see keras.io/optimizers).\n",
      "994/994 [==============================] - 1s 1ms/sample - loss: 0.4447 - acc: 0.9356 - val_loss: 0.5009 - val_acc: 0.8125\n",
      "Epoch 14/20\n",
      "992/994 [============================>.] - ETA: 0s - loss: 0.4267 - acc: 0.9395WARNING:tensorflow:TensorFlow optimizers do not make it possible to access optimizer attributes or optimizer state after instantiation. As a result, we cannot save the optimizer as part of the model save file. You will have to compile your model again after loading it. Prefer using a Keras optimizer instead (see keras.io/optimizers).\n",
      "994/994 [==============================] - 1s 1ms/sample - loss: 0.4265 - acc: 0.9396 - val_loss: 0.4930 - val_acc: 0.8125\n",
      "Epoch 15/20\n",
      "992/994 [============================>.] - ETA: 0s - loss: 0.4185 - acc: 0.9456WARNING:tensorflow:TensorFlow optimizers do not make it possible to access optimizer attributes or optimizer state after instantiation. As a result, we cannot save the optimizer as part of the model save file. You will have to compile your model again after loading it. Prefer using a Keras optimizer instead (see keras.io/optimizers).\n",
      "994/994 [==============================] - 1s 1ms/sample - loss: 0.4191 - acc: 0.9447 - val_loss: 0.4764 - val_acc: 0.8750\n",
      "Epoch 16/20\n",
      "992/994 [============================>.] - ETA: 0s - loss: 0.4049 - acc: 0.9526WARNING:tensorflow:TensorFlow optimizers do not make it possible to access optimizer attributes or optimizer state after instantiation. As a result, we cannot save the optimizer as part of the model save file. You will have to compile your model again after loading it. Prefer using a Keras optimizer instead (see keras.io/optimizers).\n",
      "994/994 [==============================] - 1s 1ms/sample - loss: 0.4054 - acc: 0.9517 - val_loss: 0.4626 - val_acc: 0.9375\n",
      "Epoch 17/20\n",
      "992/994 [============================>.] - ETA: 0s - loss: 0.4008 - acc: 0.9375WARNING:tensorflow:TensorFlow optimizers do not make it possible to access optimizer attributes or optimizer state after instantiation. As a result, we cannot save the optimizer as part of the model save file. You will have to compile your model again after loading it. Prefer using a Keras optimizer instead (see keras.io/optimizers).\n",
      "994/994 [==============================] - 1s 1ms/sample - loss: 0.4007 - acc: 0.9376 - val_loss: 0.4498 - val_acc: 0.9375\n",
      "Epoch 18/20\n",
      "992/994 [============================>.] - ETA: 0s - loss: 0.3943 - acc: 0.9365WARNING:tensorflow:TensorFlow optimizers do not make it possible to access optimizer attributes or optimizer state after instantiation. As a result, we cannot save the optimizer as part of the model save file. You will have to compile your model again after loading it. Prefer using a Keras optimizer instead (see keras.io/optimizers).\n",
      "994/994 [==============================] - 1s 1ms/sample - loss: 0.3951 - acc: 0.9356 - val_loss: 0.4415 - val_acc: 0.9375\n",
      "Epoch 19/20\n",
      "992/994 [============================>.] - ETA: 0s - loss: 0.3903 - acc: 0.9254WARNING:tensorflow:TensorFlow optimizers do not make it possible to access optimizer attributes or optimizer state after instantiation. As a result, we cannot save the optimizer as part of the model save file. You will have to compile your model again after loading it. Prefer using a Keras optimizer instead (see keras.io/optimizers).\n",
      "994/994 [==============================] - 1s 1ms/sample - loss: 0.3910 - acc: 0.9245 - val_loss: 0.4263 - val_acc: 0.9062\n",
      "Epoch 20/20\n",
      "992/994 [============================>.] - ETA: 0s - loss: 0.3805 - acc: 0.9395WARNING:tensorflow:TensorFlow optimizers do not make it possible to access optimizer attributes or optimizer state after instantiation. As a result, we cannot save the optimizer as part of the model save file. You will have to compile your model again after loading it. Prefer using a Keras optimizer instead (see keras.io/optimizers).\n",
      "994/994 [==============================] - 1s 1ms/sample - loss: 0.3801 - acc: 0.9396 - val_loss: 0.4234 - val_acc: 0.9062\n",
      "DP-SGD with sampling rate = 3.22% and noise_multiplier = 0.5 iterated over 622 steps satisfies differential privacy with eps = 35.7 and delta = 1e-05.\n",
      "The optimal RDP order is 1.75.\n",
      "budget 35.6824198640258 [0.4644351601600647, 0.875]\n"
     ]
    }
   ],
   "source": [
    "# set noise_multiplier to controll privay level (it's not budget)\n",
    "# refer to https://github.com/tensorflow/privacy\n",
    "noise_multiplier = 0.5\n",
    "\n",
    "num_microbatches = 1\n",
    "l2_norm_clip = 1.5\n",
    "learning_rate = 0.0005\n",
    "batch_size = 32\n",
    "epochs = 20\n",
    "\n",
    "if batch_size % num_microbatches != 0:\n",
    "    raise ValueError('Batch size should be an integer multiple of the number of microbatches')\n",
    "with tf.device('/cpu:1'):\n",
    "    opt = DPGradientDescentGaussianOptimizer(\n",
    "    l2_norm_clip=l2_norm_clip,\n",
    "    noise_multiplier=noise_multiplier,\n",
    "    num_microbatches=num_microbatches,\n",
    "    learning_rate=learning_rate)\n",
    "\n",
    "    model = build()\n",
    "    model.compile(optimizer=opt, metrics=['acc'], loss='binary_crossentropy') #binary_crossentropy\n",
    "    md_save = ModelCheckpoint('weight.hdf5', save_best_only=True, monitor='val_loss')\n",
    "    rlt = ReduceLROnPlateau(monitor='val_loss', factor=0.2, patience=5, verbose=1)\n",
    "    history = model.fit(x_train, y_train, validation_data = (xval, yval), verbose=1, epochs=epochs,\n",
    "                        callbacks=[md_save], batch_size=batch_size)\n",
    "\n",
    "    budget, r = compute_dp_sgd_privacy.compute_dp_sgd_privacy(n=len(x_train), batch_size=batch_size,\n",
    "               epochs=epochs, noise_multiplier=noise_multiplier, delta=1e-5)\n",
    "\n",
    "    model.load_weights('weight.hdf5')\n",
    "    print('budget', budget, model.evaluate(xtest, ytest, verbose=0))"
   ]
  },
  {
   "cell_type": "code",
   "execution_count": 10,
   "metadata": {
    "execution": {
     "iopub.execute_input": "2020-09-25T04:59:12.468205Z",
     "iopub.status.busy": "2020-09-25T04:59:12.467682Z",
     "iopub.status.idle": "2020-09-25T04:59:12.473372Z",
     "shell.execute_reply": "2020-09-25T04:59:12.472120Z",
     "shell.execute_reply.started": "2020-09-25T04:59:12.468148Z"
    }
   },
   "outputs": [],
   "source": [
    "# In this sample run, we get 0.875% acc with noise_multiplier = 0.5"
   ]
  },
  {
   "cell_type": "code",
   "execution_count": null,
   "metadata": {},
   "outputs": [],
   "source": []
  }
 ],
 "metadata": {
  "kernelspec": {
   "display_name": "tf1",
   "language": "python",
   "name": "tf1"
  },
  "language_info": {
   "codemirror_mode": {
    "name": "ipython",
    "version": 3
   },
   "file_extension": ".py",
   "mimetype": "text/x-python",
   "name": "python",
   "nbconvert_exporter": "python",
   "pygments_lexer": "ipython3",
   "version": "3.6.12"
  },
  "neptune": {
   "notebookId": "9d1d0935-fe3b-4f00-9e5a-3e428632dfdc"
  },
  "output_auto_scroll": true,
  "toc": {
   "base_numbering": 1,
   "nav_menu": {},
   "number_sections": true,
   "sideBar": true,
   "skip_h1_title": false,
   "title_cell": "Table of Contents",
   "title_sidebar": "Contents",
   "toc_cell": false,
   "toc_position": {},
   "toc_section_display": true,
   "toc_window_display": false
  }
 },
 "nbformat": 4,
 "nbformat_minor": 4
}
